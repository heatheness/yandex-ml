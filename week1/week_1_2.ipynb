{
 "cells": [
  {
   "cell_type": "code",
   "execution_count": 1,
   "metadata": {},
   "outputs": [
    {
     "name": "stdout",
     "output_type": "stream",
     "text": [
      "[0.14000522 0.30343647 0.2560461  0.30051221]\n"
     ]
    },
    {
     "name": "stderr",
     "output_type": "stream",
     "text": [
      "/Users/dmakhotin/opt/anaconda2/lib/python2.7/site-packages/ipykernel_launcher.py:32: FutureWarning: Method .as_matrix will be removed in a future version. Use .values instead.\n"
     ]
    }
   ],
   "source": [
    "# -*- coding: utf-8 -*-\n",
    "\n",
    "__author__ = 'nyash myash'\n",
    "\n",
    "\n",
    "import pandas\n",
    "import numpy as np\n",
    "from sklearn.tree import DecisionTreeClassifier\n",
    "from sklearn import tree\n",
    "\n",
    "\n",
    "data = pandas.read_csv('data.csv', index_col='PassengerId')\n",
    "# print data.head()\n",
    "data = data[['Pclass','Fare', 'Age','Sex', 'Survived']]\n",
    "\n",
    "data = data.dropna(subset=['Pclass','Fare', 'Age','Sex'], how='any')\n",
    "# print data\n",
    "\n",
    "data = data.replace(['male', 'female'], [1,0])\n",
    "\n",
    "# data = data.replace('female', 0)\n",
    "\n",
    "# data.loc[data['Sex'] == 'male', ['Sex']] = 1\n",
    "\n",
    "# data['Sex'] = data['Sex'].apply(lambda x: 1 if x == 'male' else 0)\n",
    "# print data\n",
    "\n",
    "# d = data.ix[data['Sex'] == 'male'] = 1\n",
    "# print data\n",
    "\n",
    "\n",
    "matrix_data = data.as_matrix(columns=data.columns[:])\n",
    "# print matrix_data\n",
    "x = matrix_data[:,0:4]\n",
    "y = matrix_data[:,4]\n",
    "\n",
    "clf = DecisionTreeClassifier(random_state=241)\n",
    "clf.fit(x, y)\n",
    "print clf.feature_importances_\n",
    "\n",
    "tree.export_graphviz(clf, out_file='tree.dot',\n",
    "                     feature_names=['CabinClass', 'Fare', 'Age', 'Sex'],\n",
    "                     class_names=['Dead', 'Alive'],\n",
    "                     label='root',\n",
    "                     rounded=True,\n",
    "                     filled=True)"
   ]
  },
  {
   "cell_type": "code",
   "execution_count": null,
   "metadata": {},
   "outputs": [],
   "source": []
  }
 ],
 "metadata": {
  "kernelspec": {
   "display_name": "Python 2",
   "language": "python",
   "name": "python2"
  },
  "language_info": {
   "codemirror_mode": {
    "name": "ipython",
    "version": 2
   },
   "file_extension": ".py",
   "mimetype": "text/x-python",
   "name": "python",
   "nbconvert_exporter": "python",
   "pygments_lexer": "ipython2",
   "version": "2.7.16"
  }
 },
 "nbformat": 4,
 "nbformat_minor": 2
}
