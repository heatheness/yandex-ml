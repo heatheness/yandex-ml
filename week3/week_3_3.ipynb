{
 "cells": [
  {
   "cell_type": "code",
   "execution_count": 1,
   "metadata": {},
   "outputs": [
    {
     "name": "stdout",
     "output_type": "stream",
     "text": [
      "[0.28781162 0.0919833 ]\n",
      "[0.02855875 0.02478014]\n",
      "0.9268571428571428\n",
      "0.9362857142857142\n"
     ]
    }
   ],
   "source": [
    "# -*- coding: utf-8 -*-\n",
    "\n",
    "__author__ = 'nyash myash'\n",
    "\n",
    "import pandas\n",
    "import math\n",
    "import numpy as np\n",
    "from scipy.spatial import distance\n",
    "from sklearn.metrics import roc_auc_score\n",
    "\n",
    "\n",
    "data = pandas.read_csv(\"data-logistic.csv\", sep=',', header=None)\n",
    "x = data.values[:, 1:]\n",
    "y = data.values[:, 0]\n",
    "\n",
    "sample_size = x.shape[0]\n",
    "\n",
    "def gradient_descent(x,y,initial=np.array([0.0,0.0]), k=0.1, l=sample_size, eps=1e-5):\n",
    "    w = initial\n",
    "    # w[0] = w_prev[0] + k*(1.0/l)*sum(y[0]*x[i,0]*(1-(1/(1+math.exp(-y[i]*(w*x[i,:]))))))\n",
    "\n",
    "    for item in xrange(10000):\n",
    "        w_temp = np.copy(w)\n",
    "        w[0] = w_temp[0] + k*(1.0/l)*sum(y*x[:,0]*(1-(1.0/(1+np.exp(-y*(np.dot(x,w_temp)))))))\n",
    "        w[1] = w_temp[1] + k*(1.0/l)*sum(y*x[:,1]*(1-(1.0/(1+np.exp(-y*(np.dot(x,w_temp)))))))\n",
    "        if distance.euclidean(w, w_temp) < eps:\n",
    "            return w\n",
    "    return w\n",
    "\n",
    "def gradient_descent_regularized(x,y,initial=np.array([0.0,0.0]), k=0.1, l=sample_size, c=10.0, eps=1e-5):\n",
    "    w = initial\n",
    "    # w[0] = w_prev[0] + k*(1.0/l)*sum(y[0]*x[i,0]*(1-(1/(1+math.exp(-y[i]*(w*x[i,:]))))))\n",
    "\n",
    "    for item in xrange(10000):\n",
    "        w_temp = np.copy(w)\n",
    "        w[0] = w_temp[0] + k*(1.0/l)*sum(y*x[:,0]*(1-(1.0/(1+np.exp(-y*(np.dot(x,w_temp))))))) - k*c*w[0]\n",
    "        w[1] = w_temp[1] + k*(1.0/l)*sum(y*x[:,1]*(1-(1.0/(1+np.exp(-y*(np.dot(x,w_temp))))))) - k*c*w[1]\n",
    "        if distance.euclidean(w, w_temp) <= eps:\n",
    "            return w\n",
    "    return w\n",
    "\n",
    "def sigmoid(x,w):\n",
    "    return 1.0/(1.0 + np.exp(-(np.dot(x,w))))\n",
    "\n",
    "print gradient_descent(x,y)\n",
    "print gradient_descent_regularized(x,y)\n",
    "\n",
    "w_unregularized = gradient_descent(x,y)\n",
    "w_regularized = gradient_descent_regularized(x,y)\n",
    "\n",
    "\n",
    "y_predict_unregularized = sigmoid(x,w_unregularized)\n",
    "y_predict_regularized = sigmoid(x,w_regularized)\n",
    "\n",
    "print roc_auc_score(y, y_predict_unregularized)\n",
    "print roc_auc_score(y,y_predict_regularized)"
   ]
  },
  {
   "cell_type": "code",
   "execution_count": null,
   "metadata": {},
   "outputs": [],
   "source": []
  }
 ],
 "metadata": {
  "kernelspec": {
   "display_name": "Python 2",
   "language": "python",
   "name": "python2"
  },
  "language_info": {
   "codemirror_mode": {
    "name": "ipython",
    "version": 2
   },
   "file_extension": ".py",
   "mimetype": "text/x-python",
   "name": "python",
   "nbconvert_exporter": "python",
   "pygments_lexer": "ipython2",
   "version": "2.7.16"
  }
 },
 "nbformat": 4,
 "nbformat_minor": 2
}
