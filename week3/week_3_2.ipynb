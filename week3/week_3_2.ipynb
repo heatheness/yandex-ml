{
 "cells": [
  {
   "cell_type": "code",
   "execution_count": 5,
   "metadata": {},
   "outputs": [
    {
     "name": "stdout",
     "output_type": "stream",
     "text": [
      "[u'atheism', u'atheists', u'bible', u'god', u'keith', u'moon', u'religion', u'sci', u'sky', u'space']\n"
     ]
    }
   ],
   "source": [
    "# -*- coding: utf-8 -*-\n",
    "\n",
    "__author__ = 'nyash myash'\n",
    "\n",
    "import numpy as np\n",
    "from sklearn import datasets\n",
    "from sklearn.svm import SVC\n",
    "from sklearn.model_selection import GridSearchCV\n",
    "from sklearn.feature_extraction.text import TfidfVectorizer\n",
    "from sklearn.model_selection import KFold\n",
    "\n",
    "import heapq\n",
    "\n",
    "\n",
    "newsgroups = datasets.fetch_20newsgroups(\n",
    "                    subset='all',\n",
    "                    categories=['alt.atheism', 'sci.space']\n",
    "             )\n",
    "\n",
    "x = newsgroups.data\n",
    "y = newsgroups.target\n",
    "\n",
    "vectorizer = TfidfVectorizer()\n",
    "tfidf = vectorizer.fit_transform(x,y)\n",
    "# vectorizer.transform(y)\n",
    "\n",
    "\n",
    "\n",
    "grid = {'C': np.power(10.0, np.arange(-5, 6))}\n",
    "cv = KFold(n_splits=5, shuffle=True, random_state=241)\n",
    "\n",
    "\n",
    "# clf = SVC(kernel='linear', random_state=241)\n",
    "# gs = GridSearchCV(clf, grid, scoring='accuracy', cv=cv)\n",
    "# gs.fit(tfidf, y)\n",
    "#\n",
    "#\n",
    "# for a in gs.grid_scores_:\n",
    "#     print a.mean_validation_score\n",
    "#     print a.parameters\n",
    "\n",
    "# print gs.best_score_\n",
    "# print gs.best_params_\n",
    "# print gs.best_params_['C']\n",
    "\n",
    "\n",
    "clf = SVC(C=1.0, kernel='linear', random_state=241)\n",
    "clf.fit(tfidf, y)\n",
    "\n",
    "words = vectorizer.get_feature_names()\n",
    "# print clf.coef_\n",
    "cfs = clf.coef_.toarray()[0]\n",
    "# print cfs\n",
    "\n",
    "cfs = map(lambda z: abs(z), cfs)\n",
    "cfs_top = heapq.nlargest(10, cfs)\n",
    "words_top = []\n",
    "\n",
    "for item in cfs_top:\n",
    "    for i in xrange(len(cfs)):\n",
    "        if cfs[i] == item:\n",
    "            words_top.append(words[i])\n",
    "\n",
    "words_top.sort()\n",
    "print words_top"
   ]
  },
  {
   "cell_type": "code",
   "execution_count": null,
   "metadata": {},
   "outputs": [],
   "source": []
  }
 ],
 "metadata": {
  "kernelspec": {
   "display_name": "Python 2",
   "language": "python",
   "name": "python2"
  },
  "language_info": {
   "codemirror_mode": {
    "name": "ipython",
    "version": 2
   },
   "file_extension": ".py",
   "mimetype": "text/x-python",
   "name": "python",
   "nbconvert_exporter": "python",
   "pygments_lexer": "ipython2",
   "version": "2.7.16"
  }
 },
 "nbformat": 4,
 "nbformat_minor": 2
}
