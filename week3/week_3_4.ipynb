{
 "cells": [
  {
   "cell_type": "code",
   "execution_count": 1,
   "metadata": {},
   "outputs": [
    {
     "name": "stdout",
     "output_type": "stream",
     "text": [
      "43 34 59 64\n",
      "0.54 0.56 0.42 0.48\n"
     ]
    }
   ],
   "source": [
    "# -*- coding: utf-8 -*-\n",
    "\n",
    "__author__ = 'nyash myash'\n",
    "\n",
    "import pandas\n",
    "import numpy as np\n",
    "from sklearn.metrics import accuracy_score\n",
    "from sklearn.metrics import precision_score\n",
    "from sklearn.metrics import recall_score\n",
    "from sklearn.metrics import f1_score\n",
    "\n",
    "data = pandas.read_csv(\"classification.csv\", sep=',', header=None)\n",
    "y_predict = data.values[1:,1].astype(np.float)\n",
    "y_true = data.values[1:,0].astype(np.float)\n",
    "\n",
    "tp = sum(np.logical_and((y_predict == np.ones(y_predict .shape)).astype(np.int),(y_true == np.ones(y_predict .shape))).astype(np.int))\n",
    "fp = sum(np.logical_and((y_predict == np.ones(y_predict .shape)).astype(np.int),(y_true == np.zeros(y_predict .shape))).astype(np.int))\n",
    "tn = sum(np.logical_and((y_predict == np.zeros(y_predict .shape)).astype(np.int),(y_true == np.zeros(y_predict .shape))).astype(np.int))\n",
    "fn = sum(np.logical_and((y_predict == np.zeros(y_predict .shape)).astype(np.int),(y_true == np.ones(y_predict .shape))).astype(np.int))\n",
    "\n",
    "print tp,fp,fn,tn\n",
    "\n",
    "accuracy = accuracy_score(y_true,y_predict)\n",
    "precision = precision_score(y_true,y_predict)\n",
    "recall = recall_score(y_true,y_predict)\n",
    "f1 = f1_score(y_true, y_predict)\n",
    "\n",
    "print round(accuracy,2),round(precision,2),round(recall,2),round(f1,2)\n",
    "\n",
    "\n",
    "\n"
   ]
  },
  {
   "cell_type": "code",
   "execution_count": null,
   "metadata": {},
   "outputs": [],
   "source": []
  }
 ],
 "metadata": {
  "kernelspec": {
   "display_name": "Python 2",
   "language": "python",
   "name": "python2"
  },
  "language_info": {
   "codemirror_mode": {
    "name": "ipython",
    "version": 2
   },
   "file_extension": ".py",
   "mimetype": "text/x-python",
   "name": "python",
   "nbconvert_exporter": "python",
   "pygments_lexer": "ipython2",
   "version": "2.7.16"
  }
 },
 "nbformat": 4,
 "nbformat_minor": 2
}
