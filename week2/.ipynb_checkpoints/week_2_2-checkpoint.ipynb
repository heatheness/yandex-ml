{
 "cells": [
  {
   "cell_type": "code",
   "execution_count": 1,
   "metadata": {},
   "outputs": [
    {
     "ename": "ImportError",
     "evalue": "No module named cross_validation",
     "output_type": "error",
     "traceback": [
      "\u001b[0;31m---------------------------------------------------------------------------\u001b[0m",
      "\u001b[0;31mImportError\u001b[0m                               Traceback (most recent call last)",
      "\u001b[0;32m<ipython-input-1-5138648a3dac>\u001b[0m in \u001b[0;36m<module>\u001b[0;34m()\u001b[0m\n\u001b[1;32m      9\u001b[0m \u001b[0;32mfrom\u001b[0m \u001b[0msklearn\u001b[0m\u001b[0;34m.\u001b[0m\u001b[0mneighbors\u001b[0m \u001b[0;32mimport\u001b[0m \u001b[0mKNeighborsRegressor\u001b[0m\u001b[0;34m\u001b[0m\u001b[0m\n\u001b[1;32m     10\u001b[0m \u001b[0;32mfrom\u001b[0m \u001b[0msklearn\u001b[0m\u001b[0;34m.\u001b[0m\u001b[0mmetrics\u001b[0m \u001b[0;32mimport\u001b[0m \u001b[0mmean_squared_error\u001b[0m\u001b[0;34m\u001b[0m\u001b[0m\n\u001b[0;32m---> 11\u001b[0;31m \u001b[0;32mfrom\u001b[0m \u001b[0msklearn\u001b[0m\u001b[0;34m.\u001b[0m\u001b[0mcross_validation\u001b[0m \u001b[0;32mimport\u001b[0m \u001b[0mcross_val_score\u001b[0m\u001b[0;34m\u001b[0m\u001b[0m\n\u001b[0m\u001b[1;32m     12\u001b[0m \u001b[0;34m\u001b[0m\u001b[0m\n\u001b[1;32m     13\u001b[0m \u001b[0mboston\u001b[0m \u001b[0;34m=\u001b[0m \u001b[0mload_boston\u001b[0m\u001b[0;34m(\u001b[0m\u001b[0;34m)\u001b[0m\u001b[0;34m\u001b[0m\u001b[0m\n",
      "\u001b[0;31mImportError\u001b[0m: No module named cross_validation"
     ]
    }
   ],
   "source": [
    "# -*- coding: utf-8 -*-\n",
    "\n",
    "__author__ = 'nyash myash'\n",
    "\n",
    "import numpy as np\n",
    "from sklearn.datasets import load_boston\n",
    "from sklearn import preprocessing\n",
    "from sklearn.model_selection import KFold\n",
    "from sklearn.neighbors import KNeighborsRegressor\n",
    "from sklearn.metrics import mean_squared_error\n",
    "from sklearn.model_selection import cross_val_score\n",
    "\n",
    "boston = load_boston()\n",
    "\n",
    "x = boston.data\n",
    "x = preprocessing.scale(x, axis=0, with_mean=True, with_std=True, copy=True)\n",
    "m = x.shape[0]\n",
    "y = boston.target\n",
    "greed = np.linspace(1.0, 10.0, num=200)\n",
    "best_p = 1\n",
    "\n",
    "mse = {}\n",
    "\n",
    "\n",
    "kf = KFold(n_splits=5, shuffle=True, random_state=42)\n",
    "\n",
    "for power in greed:\n",
    "    neigh = KNeighborsRegressor(n_neighbors=5, weights='distance', p=power, metric='minkowski')\n",
    "    cvs = cross_val_score(neigh, x, y, cv=kf)\n",
    "    # print cvs\n",
    "    mse[power] = max(cvs)\n",
    "\n",
    "print mse\n",
    "res = max(mse.iteritems(), key=lambda x:x[1])\n",
    "print res\n",
    "\n",
    "\n",
    "\n",
    "\n",
    "    # for train_index, test_index in kf:\n",
    "    #     x_train, x_test = x[train_index], x[test_index]\n",
    "    #     y_train, y_test = y[train_index], y[test_index]\n",
    "    #     neigh.fit(x_train, y_train)\n",
    "    #     cvs = cross_val_score(neigh, x_test, y=y_test, scoring='mean_squared_error', cv=kf)\n",
    "    #\n",
    "    #\n",
    "    #     # y_pred = neigh.predict(x_test)\n",
    "    #     # error = mean_squared_error(y_test, y_pred)\n",
    "    #     # mse.append(error)\n",
    "    #\n",
    "    # # mean_acc = np.mean(acc)\n",
    "    # if mean_acc > max_accuracy:\n",
    "    #     max_accuracy = mean_acc\n",
    "\n"
   ]
  },
  {
   "cell_type": "code",
   "execution_count": null,
   "metadata": {},
   "outputs": [],
   "source": []
  }
 ],
 "metadata": {
  "kernelspec": {
   "display_name": "Python 2",
   "language": "python",
   "name": "python2"
  },
  "language_info": {
   "codemirror_mode": {
    "name": "ipython",
    "version": 2
   },
   "file_extension": ".py",
   "mimetype": "text/x-python",
   "name": "python",
   "nbconvert_exporter": "python",
   "pygments_lexer": "ipython2",
   "version": "2.7.16"
  }
 },
 "nbformat": 4,
 "nbformat_minor": 2
}
