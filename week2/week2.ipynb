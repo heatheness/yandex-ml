{
 "cells": [
  {
   "cell_type": "code",
   "execution_count": 3,
   "metadata": {},
   "outputs": [
    {
     "name": "stdout",
     "output_type": "stream",
     "text": [
      "KFold(n_splits=5, random_state=42, shuffle=True)\n",
      "0.9776190476190475\n",
      "29\n"
     ]
    }
   ],
   "source": [
    "# -*- coding: utf-8 -*-\n",
    "\n",
    "__author__ = 'nyash myash'\n",
    "\n",
    "import pandas\n",
    "import numpy as np\n",
    "from sklearn.model_selection import KFold\n",
    "from sklearn.neighbors import KNeighborsClassifier\n",
    "from sklearn import preprocessing\n",
    "\n",
    "data = pandas.read_csv('wine.csv', sep=',', header=None)\n",
    "\n",
    "\n",
    "x = data.values[:,1:]\n",
    "y = data.values[:,0]\n",
    "x = preprocessing.scale(x, axis=0, with_mean=True, with_std=True, copy=True)\n",
    "\n",
    "m = x.shape[0]\n",
    "\n",
    "kf = KFold(n_splits=5, shuffle=True, random_state=42)\n",
    "print kf\n",
    "\n",
    "max_accuracy = 0\n",
    "best_k = 1\n",
    "\n",
    "for k in xrange(1, 51):\n",
    "    acc = []\n",
    "    for train_index, test_index in kf.split(x):\n",
    "        x_train, x_test = x[train_index], x[test_index]\n",
    "        y_train, y_test = y[train_index], y[test_index]\n",
    "        neigh = KNeighborsClassifier(n_neighbors=k)\n",
    "        neigh.fit(x_train, y_train)\n",
    "        score = neigh.score(x_test, y_test) # a smart way to calculate accuracy\n",
    "        acc.append(score)\n",
    "        # a = neigh.predict(x_test)\n",
    "        # res = a == y_test\n",
    "        # res = res.astype(float)\n",
    "        # # print res\n",
    "        # accuracy = sum(res) / res.shape[0]\n",
    "        # acc.append(accuracy)\n",
    "    mean_acc = np.mean(acc)\n",
    "    if mean_acc > max_accuracy:\n",
    "        max_accuracy = mean_acc\n",
    "        best_k = k\n",
    "\n",
    "print max_accuracy\n",
    "print best_k\n",
    "\n"
   ]
  },
  {
   "cell_type": "code",
   "execution_count": null,
   "metadata": {},
   "outputs": [],
   "source": []
  }
 ],
 "metadata": {
  "kernelspec": {
   "display_name": "Python 2",
   "language": "python",
   "name": "python2"
  },
  "language_info": {
   "codemirror_mode": {
    "name": "ipython",
    "version": 2
   },
   "file_extension": ".py",
   "mimetype": "text/x-python",
   "name": "python",
   "nbconvert_exporter": "python",
   "pygments_lexer": "ipython2",
   "version": "2.7.16"
  }
 },
 "nbformat": 4,
 "nbformat_minor": 2
}
