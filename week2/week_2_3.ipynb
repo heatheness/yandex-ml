{
 "cells": [
  {
   "cell_type": "code",
   "execution_count": 1,
   "metadata": {},
   "outputs": [
    {
     "name": "stdout",
     "output_type": "stream",
     "text": [
      "[-1. -1.  1. -1. -1. -1.  1.  1.  1.  1. -1. -1. -1. -1. -1. -1.  1. -1.\n",
      " -1.  1.  1.  1.  1. -1.  1. -1.  1.  1. -1.  1.  1.  1. -1.  1. -1. -1.\n",
      " -1.  1.  1.  1.  1. -1. -1.  1. -1.  1. -1. -1.  1.  1. -1.  1. -1.  1.\n",
      " -1.  1.  1.  1.  1.  1.  1. -1.  1.  1.  1.  1. -1. -1. -1.  1.  1.  1.\n",
      " -1.  1. -1. -1. -1.  1.  1. -1. -1. -1.  1. -1. -1.  1. -1.  1. -1. -1.\n",
      " -1.  1.  1.  1.  1.  1. -1.  1.  1.  1. -1.  1.  1.  1.  1.  1. -1. -1.\n",
      "  1.  1.  1. -1. -1.  1.  0.  1. -1.  1. -1. -1.  1. -1. -1. -1. -1.  1.\n",
      "  1.  1. -1. -1.  1. -1. -1. -1. -1. -1.  1.  1. -1.  1.  1.  1.  1.  1.\n",
      " -1.  1.  1.  1.  1.  1. -1. -1. -1. -1. -1. -1.  1. -1.  1.  1. -1.  1.\n",
      " -1. -1.  1. -1.  1. -1. -1. -1. -1.  1. -1.  1.  1. -1.  1. -1. -1. -1.\n",
      " -1. -1.  1. -1.  1. -1.  1. -1. -1. -1.  1. -1. -1. -1.  1. -1. -1.  1.\n",
      " -1.  1.]\n",
      "0.36\n",
      "0.925\n",
      "0.5650000000000001\n"
     ]
    },
    {
     "name": "stderr",
     "output_type": "stream",
     "text": [
      "/Users/dmakhotin/opt/anaconda2/lib/python2.7/site-packages/sklearn/linear_model/stochastic_gradient.py:166: FutureWarning: max_iter and tol parameters have been added in Perceptron in 0.19. If both are left unset, they default to max_iter=5 and tol=None. If tol is not None, max_iter defaults to max_iter=1000. From 0.21, default max_iter will be 1000, and default tol will be 1e-3.\n",
      "  FutureWarning)\n"
     ]
    }
   ],
   "source": [
    "# -*- coding: utf-8 -*-\n",
    "\n",
    "__author__ = 'nyash myash'\n",
    "\n",
    "import pandas\n",
    "from sklearn import metrics\n",
    "from sklearn.linear_model import Perceptron\n",
    "from sklearn.preprocessing import StandardScaler\n",
    "\n",
    "\n",
    "\n",
    "test = pandas.read_csv('perceptron-test.csv', sep=',', header=None)\n",
    "train = pandas.read_csv('perceptron-train.csv', sep=',', header=None)\n",
    "\n",
    "\n",
    "clf = Perceptron(random_state=241)\n",
    "clf.fit(train.values[:,1:], train.values[:, 0])\n",
    "\n",
    "\n",
    "predictions = clf.predict(test.values[:, 1:])\n",
    "\n",
    "print predictions\n",
    "\n",
    "accuracy = metrics.accuracy_score(test.values[:, 0], predictions)\n",
    "print accuracy\n",
    "\n",
    "scaler = StandardScaler()\n",
    "\n",
    "train_scaled = scaler.fit_transform(train.values[:, 1:])\n",
    "test_scaled = scaler.transform(test.values[:, 1:])\n",
    "clf.fit(train_scaled, train.values[:, 0])\n",
    "predictions_s = clf.predict(test_scaled)\n",
    "accuracy_s = metrics.accuracy_score(test.values[:, 0], predictions_s)\n",
    "print accuracy_s\n",
    "\n",
    "print accuracy_s - accuracy\n",
    "\n"
   ]
  },
  {
   "cell_type": "code",
   "execution_count": null,
   "metadata": {},
   "outputs": [],
   "source": []
  }
 ],
 "metadata": {
  "kernelspec": {
   "display_name": "Python 2",
   "language": "python",
   "name": "python2"
  },
  "language_info": {
   "codemirror_mode": {
    "name": "ipython",
    "version": 2
   },
   "file_extension": ".py",
   "mimetype": "text/x-python",
   "name": "python",
   "nbconvert_exporter": "python",
   "pygments_lexer": "ipython2",
   "version": "2.7.16"
  }
 },
 "nbformat": 4,
 "nbformat_minor": 2
}
