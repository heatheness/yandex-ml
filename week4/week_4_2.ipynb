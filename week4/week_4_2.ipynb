{
 "cells": [
  {
   "cell_type": "code",
   "execution_count": 9,
   "metadata": {},
   "outputs": [
    {
     "name": "stdout",
     "output_type": "stream",
     "text": [
      "(374, 30)\n",
      "(10, 30)\n",
      "(374, 10)\n",
      "3\n",
      "[[1.   0.91]\n",
      " [0.91 1.  ]]\n",
      "V\n"
     ]
    }
   ],
   "source": [
    "# -*- coding: utf-8 -*-\n",
    "\n",
    "__author__ = 'nyash myash'\n",
    "\n",
    "import pandas as pd\n",
    "import numpy as np\n",
    "from sklearn.decomposition import PCA\n",
    "import bisect\n",
    "\n",
    "data = pd.read_csv('close_prices.csv')\n",
    "X = data.values[:,1:]\n",
    "print X.shape\n",
    "\n",
    "dow_jones = pd.read_csv('djia_index.csv').values[:,1]\n",
    "pca = PCA(n_components=10)\n",
    "pca.fit(X)\n",
    "print pca.components_.shape\n",
    "res = pca.transform(X)[:,0]\n",
    "print pca.transform(X).shape\n",
    "\n",
    "print bisect.bisect_left(np.cumsum(pca.explained_variance_ratio_), 0.9)\n",
    "print np.round(np.corrcoef(res,dow_jones.astype(float)), 2)\n",
    "\n",
    "\n",
    "idx = np.argmax(pca.components_[0])\n",
    "# print pca.components_[0]\n",
    "\n",
    "print data.columns[1:][idx]\n",
    "\n",
    "# print X_2\n",
    "\n",
    "\n",
    "\n",
    "# print pca.explained_variance_ratio_\n"
   ]
  }
 ],
 "metadata": {
  "kernelspec": {
   "display_name": "Python 2",
   "language": "python",
   "name": "python2"
  },
  "language_info": {
   "codemirror_mode": {
    "name": "ipython",
    "version": 2
   },
   "file_extension": ".py",
   "mimetype": "text/x-python",
   "name": "python",
   "nbconvert_exporter": "python",
   "pygments_lexer": "ipython2",
   "version": "2.7.16"
  }
 },
 "nbformat": 4,
 "nbformat_minor": 2
}
